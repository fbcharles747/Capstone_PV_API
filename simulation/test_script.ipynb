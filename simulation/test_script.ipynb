{
 "cells": [
  {
   "cell_type": "code",
   "execution_count": 17,
   "metadata": {},
   "outputs": [
    {
     "data": {
      "text/plain": [
       "Vac                          208\n",
       "Pso                     2.089607\n",
       "Paco                       250.0\n",
       "Pdco                  259.588593\n",
       "Vdco                        40.0\n",
       "C0                     -0.000041\n",
       "C1                     -0.000091\n",
       "C2                      0.000494\n",
       "C3                     -0.013171\n",
       "Pnt                        0.075\n",
       "Vdcmax                      50.0\n",
       "Idcmax                  6.489715\n",
       "Mppt_low                    30.0\n",
       "Mppt_high                   50.0\n",
       "CEC_Date                     NaN\n",
       "CEC_Type     Utility Interactive\n",
       "Name: ABB__MICRO_0_25_I_OUTD_US_208__208V_, dtype: object"
      ]
     },
     "execution_count": 17,
     "metadata": {},
     "output_type": "execute_result"
    }
   ],
   "source": [
    "import pvlib\n",
    "\n",
    "from pvlib.temperature import TEMPERATURE_MODEL_PARAMETERS\n",
    "\n",
    "temperature_model_parameters = TEMPERATURE_MODEL_PARAMETERS['sapm']['open_rack_glass_glass']\n",
    "\n",
    "# load some module and inverter specifications\n",
    "sandia_modules = pvlib.pvsystem.retrieve_sam('SandiaMod')\n",
    "\n",
    "cec_inverters = pvlib.pvsystem.retrieve_sam('cecinverter')\n",
    "\n",
    "sandia_module = sandia_modules['Canadian_Solar_CS5P_220M___2009_']\n",
    "\n",
    "cec_inverter = cec_inverters['ABB__MICRO_0_25_I_OUTD_US_208__208V_']\n",
    "cec_inverter"
   ]
  },
  {
   "cell_type": "code",
   "execution_count": 14,
   "metadata": {},
   "outputs": [
    {
     "data": {
      "text/plain": [
       "Name         ABB__UNO_2_5_I_OUTD_S_US__277V_\n",
       "Vac                                      277\n",
       "Paco                                    2500\n",
       "Pdco                               2592.4729\n",
       "Vdco                                     360\n",
       "Pso                                28.358692\n",
       "C0                                 -0.000008\n",
       "C1                                 -0.000045\n",
       "C2                                   0.00041\n",
       "C3                                 -0.002524\n",
       "Pnt                                      0.5\n",
       "Vdcmax                                   416\n",
       "Idcmax                              7.201314\n",
       "Mppt_low                                 100\n",
       "Mppt_high                                416\n",
       "Name: 0, dtype: object"
      ]
     },
     "execution_count": 14,
     "metadata": {},
     "output_type": "execute_result"
    }
   ],
   "source": [
    "import pandas as pd\n",
    "inverter_map={\n",
    "  \"Name\": \"ABB__UNO_2_5_I_OUTD_S_US__277V_\",\n",
    "  \"Vac\": 277,\n",
    "  \"Paco\": 2500,\n",
    "  \"Pdco\": 2592.4729,\n",
    "  \"Vdco\": 360,\n",
    "  \"Pso\": 28.358692,\n",
    "  \"C0\": -0.000008,\n",
    "  \"C1\": -0.000045,\n",
    "  \"C2\": 0.00041,\n",
    "  \"C3\": -0.002524,\n",
    "  \"Pnt\": 0.5,\n",
    "  \"Vdcmax\": 416,\n",
    "  \"Idcmax\": 7.201314,\n",
    "  \"Mppt_low\": 100,\n",
    "  \"Mppt_high\": 416\n",
    "}\n",
    "module_map={\n",
    "  \"Name\": \"Sunpreme_Inc__SNPM_GxB_510\",\n",
    "  \"BIPV\": \"N\",\n",
    "  \"Date\": \"1/3/2019\",\n",
    "  \"T_NOCT\": 45.5,\n",
    "  \"A_c\": 2.591,\n",
    "  \"N_s\": 96,\n",
    "  \"I_sc_ref\": 9.4,\n",
    "  \"V_oc_ref\": 74.7,\n",
    "  \"I_mp_ref\": 8.9,\n",
    "  \"V_mp_ref\": 57.3,\n",
    "  \"alpha_sc\": 0.00094,\n",
    "  \"beta_oc\": -0.19422,\n",
    "  \"a_ref\": 2.41017,\n",
    "  \"I_L_ref\": 9.40894,\n",
    "  \"I_o_ref\": 0,\n",
    "  \"R_s\": 1.135045,\n",
    "  \"R_sh_ref\": 1193.327026,\n",
    "  \"Adjust\": -20.561962,\n",
    "  \"gamma_r\": -0.3,\n",
    "  \"Version\": \"SAM 2018.11.11 r2\",\n",
    "  \"PTC\": 479.6,\n",
    "  \"Technology\": \"Thin Film\"\n",
    "}\n",
    "module_frame=pd.DataFrame(data=[module_map])\n",
    "inverter_frame=pd.DataFrame(data=[inverter_map])\n",
    "inverter_frame.loc[0]"
   ]
  },
  {
   "cell_type": "code",
   "execution_count": 18,
   "metadata": {},
   "outputs": [
    {
     "name": "stdout",
     "output_type": "stream",
     "text": [
      "ModelChain: \n",
      "  name: None\n",
      "  clearsky_model: ineichen\n",
      "  transposition_model: haydavies\n",
      "  solar_position_method: nrel_numpy\n",
      "  airmass_model: kastenyoung1989\n",
      "  dc_model: sapm\n",
      "  ac_model: sandia_inverter\n",
      "  aoi_model: sapm_aoi_loss\n",
      "  spectral_model: sapm_spectral_loss\n",
      "  temperature_model: sapm_temp\n",
      "  losses_model: no_extra_losses\n"
     ]
    }
   ],
   "source": [
    "from pvlib.location import Location\n",
    "from pvlib.pvsystem import PVSystem\n",
    "from pvlib.modelchain import ModelChain\n",
    "location = Location(latitude=32.2, longitude=-110.9)\n",
    "\n",
    "system = PVSystem(surface_tilt=20, surface_azimuth=200,\n",
    "                  module_parameters=sandia_module,\n",
    "                  inverter_parameters=cec_inverter,\n",
    "                  temperature_model_parameters=temperature_model_parameters)\n",
    "\n",
    "mc=ModelChain(system=system,location=location)\n",
    "print(mc)"
   ]
  },
  {
   "cell_type": "code",
   "execution_count": 4,
   "metadata": {},
   "outputs": [
    {
     "data": {
      "text/plain": [
       "ModelChain: \n",
       "  name: None\n",
       "  clearsky_model: ineichen\n",
       "  transposition_model: haydavies\n",
       "  solar_position_method: nrel_numpy\n",
       "  airmass_model: kastenyoung1989\n",
       "  dc_model: sapm\n",
       "  ac_model: sandia_inverter\n",
       "  aoi_model: sapm_aoi_loss\n",
       "  spectral_model: sapm_spectral_loss\n",
       "  temperature_model: sapm_temp\n",
       "  losses_model: no_extra_losses"
      ]
     },
     "execution_count": 4,
     "metadata": {},
     "output_type": "execute_result"
    }
   ],
   "source": [
    "import pandas as pd\n",
    "\n",
    "weather = pd.DataFrame([[1050, 1000, 100, 30, 5]],\n",
    "                       columns=['ghi', 'dni', 'dhi', 'temp_air', 'wind_speed'],\n",
    "                       index=[pd.Timestamp('20170401 1200', tz='US/Arizona')])\n",
    "mc.run_model(weather)"
   ]
  },
  {
   "cell_type": "code",
   "execution_count": 7,
   "metadata": {},
   "outputs": [
    {
     "data": {
      "text/plain": [
       "2017-04-01 12:00:00-07:00    189.241446\n",
       "dtype: float64"
      ]
     },
     "execution_count": 7,
     "metadata": {},
     "output_type": "execute_result"
    }
   ],
   "source": [
    "mc.results.ac"
   ]
  },
  {
   "cell_type": "code",
   "execution_count": null,
   "metadata": {},
   "outputs": [],
   "source": []
  }
 ],
 "metadata": {
  "kernelspec": {
   "display_name": "pvlib",
   "language": "python",
   "name": "python3"
  },
  "language_info": {
   "codemirror_mode": {
    "name": "ipython",
    "version": 3
   },
   "file_extension": ".py",
   "mimetype": "text/x-python",
   "name": "python",
   "nbconvert_exporter": "python",
   "pygments_lexer": "ipython3",
   "version": "3.12.6"
  }
 },
 "nbformat": 4,
 "nbformat_minor": 2
}
