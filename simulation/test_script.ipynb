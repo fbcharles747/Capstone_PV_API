{
 "cells": [
  {
   "cell_type": "code",
   "execution_count": 290,
   "metadata": {},
   "outputs": [
    {
     "data": {
      "text/plain": [
       "Vac                          208\n",
       "Pso                     2.089607\n",
       "Paco                       250.0\n",
       "Pdco                  259.588593\n",
       "Vdco                        40.0\n",
       "C0                     -0.000041\n",
       "C1                     -0.000091\n",
       "C2                      0.000494\n",
       "C3                     -0.013171\n",
       "Pnt                        0.075\n",
       "Vdcmax                      50.0\n",
       "Idcmax                  6.489715\n",
       "Mppt_low                    30.0\n",
       "Mppt_high                   50.0\n",
       "CEC_Date                     NaN\n",
       "CEC_Type     Utility Interactive\n",
       "Name: ABB__MICRO_0_25_I_OUTD_US_208__208V_, dtype: object"
      ]
     },
     "execution_count": 290,
     "metadata": {},
     "output_type": "execute_result"
    }
   ],
   "source": [
    "import pvlib\n",
    "import pandas as pd\n",
    "\n",
    "from pvlib.temperature import TEMPERATURE_MODEL_PARAMETERS\n",
    "\n",
    "temperature_model_parameters = TEMPERATURE_MODEL_PARAMETERS['sapm']['open_rack_glass_glass']\n",
    "\n",
    "# load some module and inverter specifications\n",
    "cec_modules = pvlib.pvsystem.retrieve_sam('cecmod')\n",
    "\n",
    "\n",
    "cec_inverters = pvlib.pvsystem.retrieve_sam('cecinverter')\n",
    "\n",
    "# cec_module = cec_modules['Sunpreme_Inc__SNPM_GxB_510']\n",
    "# cec_df=pd.read_excel('PVLibCEC.xlsx')\n",
    "\n",
    "cec_inverter = cec_inverters['ABB__MICRO_0_25_I_OUTD_US_208__208V_']\n",
    "# cec_module.to_dict()\n",
    "# cec_df\n",
    "pvsyst_module_map = {\n",
    "    'Technology': 'Mono-c-Si',\n",
    "    'Bifacial': 1,\n",
    "    'STC': 550.62,\n",
    "    'PTC': 516.4,\n",
    "    'A_c': 2.52,\n",
    "    'Length': None,  # NaN is represented as None in Python\n",
    "    'Width': None,   # NaN is represented as None in Python\n",
    "    'N_s': 72,\n",
    "    'I_sc_ref': 14,\n",
    "    'V_oc_ref': 49.9,\n",
    "    'I_mp_ref': 13.11,\n",
    "    'V_mp_ref': 42,\n",
    "    'alpha_sc': 0.00546,\n",
    "    'beta_oc': -0.13024,\n",
    "    'T_NOCT': 44.8,\n",
    "    'a_ref': 1.82357,\n",
    "    'I_L_ref': 14.0167,\n",
    "    'I_o_ref': 1.78e-11,\n",
    "    'R_s': 0.164846,\n",
    "    'R_sh_ref': 138.077,\n",
    "    'Adjust': 6.23131,\n",
    "    'gamma_r': -0.33,\n",
    "    'BIPV': 'N',\n",
    "    'Version': '2023.10.31',\n",
    "    'Date': '11/16/2022',\n",
    "    'Name': 'JA Solar JAM72D30-550/MB'\n",
    "}\n",
    "pvsyst_module_series=pd.Series(pvsyst_module_map)\n",
    "cec_inverter\n",
    "\n"
   ]
  },
  {
   "cell_type": "code",
   "execution_count": 291,
   "metadata": {},
   "outputs": [
    {
     "data": {
      "text/plain": [
       "Vac                                       277\n",
       "Pso                                 28.358692\n",
       "Paco                                     2500\n",
       "Pdco                                2592.4729\n",
       "Vdco                                    360.0\n",
       "C0                                  -0.000008\n",
       "C1                                  -0.000045\n",
       "C2                                    0.00041\n",
       "C3                                  -0.002524\n",
       "Pnt                                       0.5\n",
       "Vdcmax                                  416.0\n",
       "Idcmax                               7.201314\n",
       "Mppt_low                                100.0\n",
       "Mppt_high                               416.0\n",
       "Name          ABB__UNO_2_5_I_OUTD_S_US__277V_\n",
       "efficiency                               0.98\n",
       "dtype: object"
      ]
     },
     "execution_count": 291,
     "metadata": {},
     "output_type": "execute_result"
    }
   ],
   "source": [
    "DEFAULT_INVERTER = {\n",
    "    'Vac': 277,  # Nominal AC voltage (V)\n",
    "    'Pso': 28.358692,  # Power consumption during operation (W)\n",
    "    'Paco': 2500,  # Maximum AC power output (W)\n",
    "    'Pdco': 2592.4729,  # Maximum DC power output (W)\n",
    "    'Vdco': 360.0,  # Nominal DC voltage (V)\n",
    "    'C0': -0.000008,  # Curvature between AC power and DC power (1/W)\n",
    "    'C1': -0.000045,  # Coefficient of `Pdco` variation with DC input voltage (1/V)\n",
    "    'C2': 0.00041,  # Coefficient of inverter power consumption loss variation with DC input voltage (1/V)\n",
    "    'C3': -0.002524,  # Coefficient of C0 variation with DC input voltage (1/V)\n",
    "    'Pnt': 0.5,  # Inverter night time loss (kW)\n",
    "    'Vdcmax': 416.0,  # Maximum DC voltage (V)\n",
    "    'Idcmax': 7.201314,  # Maximum DC current (A)\n",
    "    'Mppt_low': 100.0,  # Minimum MPPT DC voltage (V)\n",
    "    'Mppt_high': 416.0,  # Maximum MPPT DC voltage (V)\n",
    "    'Name': 'ABB__UNO_2_5_I_OUTD_S_US__277V_',  # Name of the inverter\n",
    "    'efficiency':0.98\n",
    "}\n",
    "\n",
    "DEFAULT_MODULE={\n",
    "'Technology': 'Thin Film',\n",
    " 'Bifacial': 1,\n",
    " 'STC': 509.97,\n",
    " 'PTC': 479.6,\n",
    " 'A_c': 2.591,\n",
    " 'Length': 1.981,\n",
    " 'Width': 1.308,\n",
    " 'N_s': 96,\n",
    " 'I_sc_ref': 9.4,\n",
    " 'V_oc_ref': 74.7,\n",
    " 'I_mp_ref': 8.9,\n",
    " 'V_mp_ref': 57.3,\n",
    " 'alpha_sc': 0.00094,\n",
    " 'beta_oc': -0.19422,\n",
    " 'T_NOCT': 45.5,\n",
    " 'a_ref': 2.41017,\n",
    " 'I_L_ref': 9.40894,\n",
    " 'I_o_ref': 3.237911e-13,\n",
    " 'R_s': 1.135045,\n",
    " 'R_sh_ref': 1193.327026,\n",
    " 'Adjust': -20.561962,\n",
    " 'gamma_r': -0.3,\n",
    " 'BIPV': 'N',\n",
    " 'Version': 'SAM 2018.11.11 r2',\n",
    " 'Date': '1/3/2019'\n",
    " }\n",
    "custom_module=pd.Series(DEFAULT_MODULE)\n",
    "custom_inverter=pd.Series(DEFAULT_INVERTER)\n",
    "custom_inverter\n"
   ]
  },
  {
   "cell_type": "code",
   "execution_count": 292,
   "metadata": {},
   "outputs": [
    {
     "data": {
      "text/plain": [
       "PVSystem:\n",
       "  name: None\n",
       "  Array:\n",
       "    name: None\n",
       "    mount: FixedMount(surface_tilt=45, surface_azimuth=180, racking_model='open_rack', module_height=None)\n",
       "    module: None\n",
       "    albedo: 0.25\n",
       "    module_type: glass_glass\n",
       "    temperature_model_parameters: {'a': -3.47, 'b': -0.0594, 'deltaT': 3}\n",
       "    strings: 2\n",
       "    modules_per_string: 25\n",
       "  inverter: None"
      ]
     },
     "execution_count": 292,
     "metadata": {},
     "output_type": "execute_result"
    }
   ],
   "source": [
    "from pvlib.location import Location\n",
    "from pvlib.pvsystem import PVSystem, FixedMount,Array\n",
    "location = Location(latitude=32.2, longitude=-110.9)\n",
    "\n",
    "arrs=[]\n",
    "mount=FixedMount(surface_tilt=45,\n",
    "                 surface_azimuth=180,\n",
    "                 racking_model='open_rack',\n",
    "                 module_height=1)\n",
    "\n",
    "# for _ in range(4):\n",
    "#     newArr=Array(mount=mount,\n",
    "#                  albedo=0.25,\n",
    "#                  module_parameters=pvsyst_module_series,\n",
    "#                  module_type='glass_glass',\n",
    "#                  modules_per_string=25,\n",
    "#                  strings=3)\n",
    "#     arrs.append(newArr)\n",
    "\n",
    "# system=PVSystem(arrays=arrs,inverter_parameters=custom_inverter)\n",
    "system = PVSystem(surface_tilt=45, surface_azimuth=180,\n",
    "                  module_parameters=pvsyst_module_map,\n",
    "                  inverter_parameters=DEFAULT_INVERTER,\n",
    "                  strings_per_inverter=2,\n",
    "                  modules_per_string=25,\n",
    "                  racking_model='open_rack',\n",
    "                  module_type='glass_glass',\n",
    "                  albedo=0.25)\n",
    "\n",
    "system"
   ]
  },
  {
   "cell_type": "code",
   "execution_count": 293,
   "metadata": {},
   "outputs": [
    {
     "name": "stdout",
     "output_type": "stream",
     "text": [
      "water= 1.420983331355153\n"
     ]
    },
    {
     "data": {
      "text/html": [
       "<div>\n",
       "<style scoped>\n",
       "    .dataframe tbody tr th:only-of-type {\n",
       "        vertical-align: middle;\n",
       "    }\n",
       "\n",
       "    .dataframe tbody tr th {\n",
       "        vertical-align: top;\n",
       "    }\n",
       "\n",
       "    .dataframe thead th {\n",
       "        text-align: right;\n",
       "    }\n",
       "</style>\n",
       "<table border=\"1\" class=\"dataframe\">\n",
       "  <thead>\n",
       "    <tr style=\"text-align: right;\">\n",
       "      <th></th>\n",
       "      <th>ghi</th>\n",
       "      <th>dni</th>\n",
       "      <th>dhi</th>\n",
       "      <th>temp_air</th>\n",
       "      <th>wind_speed</th>\n",
       "      <th>precipitable_water</th>\n",
       "    </tr>\n",
       "  </thead>\n",
       "  <tbody>\n",
       "    <tr>\n",
       "      <th>2017-04-01 12:00:00-07:00</th>\n",
       "      <td>453</td>\n",
       "      <td>917</td>\n",
       "      <td>50</td>\n",
       "      <td>9.02</td>\n",
       "      <td>5.66</td>\n",
       "      <td>1.420983</td>\n",
       "    </tr>\n",
       "  </tbody>\n",
       "</table>\n",
       "</div>"
      ],
      "text/plain": [
       "                           ghi  dni  dhi  temp_air  wind_speed  \\\n",
       "2017-04-01 12:00:00-07:00  453  917   50      9.02        5.66   \n",
       "\n",
       "                           precipitable_water  \n",
       "2017-04-01 12:00:00-07:00            1.420983  "
      ]
     },
     "execution_count": 293,
     "metadata": {},
     "output_type": "execute_result"
    }
   ],
   "source": [
    "import pandas as pd\n",
    "water=pvlib.atmosphere.gueymard94_pw(9.02, 74)\n",
    "print(f'water= {water}')\n",
    "weather_data={\n",
    "    'ghi':453,\n",
    "    'dni':917,\n",
    "    'dhi':50,\n",
    "    'temp_air':9.02,\n",
    "    'wind_speed':5.66,\n",
    "    'precipitable_water':water\n",
    "}\n",
    "weather = pd.DataFrame([weather_data],\n",
    "                       index=[pd.Timestamp('20170401 1200', tz='US/Arizona')])\n",
    "weather\n"
   ]
  },
  {
   "cell_type": "code",
   "execution_count": 294,
   "metadata": {},
   "outputs": [
    {
     "data": {
      "text/plain": [
       "ModelChain: \n",
       "  name: None\n",
       "  clearsky_model: ineichen\n",
       "  transposition_model: haydavies\n",
       "  solar_position_method: nrel_numpy\n",
       "  airmass_model: kastenyoung1989\n",
       "  dc_model: cec\n",
       "  ac_model: sandia_inverter\n",
       "  aoi_model: no_aoi_loss\n",
       "  spectral_model: first_solar_spectral_loss\n",
       "  temperature_model: sapm_temp\n",
       "  losses_model: no_extra_losses"
      ]
     },
     "execution_count": 294,
     "metadata": {},
     "output_type": "execute_result"
    }
   ],
   "source": [
    "from pvlib.modelchain import ModelChain\n",
    "mc=ModelChain(system=system,location=location,aoi_model='no_loss')\n",
    "mc\n"
   ]
  },
  {
   "cell_type": "code",
   "execution_count": 295,
   "metadata": {},
   "outputs": [
    {
     "data": {
      "text/plain": [
       "ModelChain: \n",
       "  name: None\n",
       "  clearsky_model: ineichen\n",
       "  transposition_model: haydavies\n",
       "  solar_position_method: nrel_numpy\n",
       "  airmass_model: kastenyoung1989\n",
       "  dc_model: cec\n",
       "  ac_model: sandia_inverter\n",
       "  aoi_model: no_aoi_loss\n",
       "  spectral_model: first_solar_spectral_loss\n",
       "  temperature_model: sapm_temp\n",
       "  losses_model: no_extra_losses"
      ]
     },
     "execution_count": 295,
     "metadata": {},
     "output_type": "execute_result"
    }
   ],
   "source": [
    "mc.run_model(weather)\n"
   ]
  },
  {
   "cell_type": "code",
   "execution_count": 296,
   "metadata": {},
   "outputs": [
    {
     "data": {
      "text/html": [
       "<div>\n",
       "<style scoped>\n",
       "    .dataframe tbody tr th:only-of-type {\n",
       "        vertical-align: middle;\n",
       "    }\n",
       "\n",
       "    .dataframe tbody tr th {\n",
       "        vertical-align: top;\n",
       "    }\n",
       "\n",
       "    .dataframe thead th {\n",
       "        text-align: right;\n",
       "    }\n",
       "</style>\n",
       "<table border=\"1\" class=\"dataframe\">\n",
       "  <thead>\n",
       "    <tr style=\"text-align: right;\">\n",
       "      <th></th>\n",
       "      <th>i_sc</th>\n",
       "      <th>v_oc</th>\n",
       "      <th>i_mp</th>\n",
       "      <th>v_mp</th>\n",
       "      <th>p_mp</th>\n",
       "      <th>i_x</th>\n",
       "      <th>i_xx</th>\n",
       "    </tr>\n",
       "  </thead>\n",
       "  <tbody>\n",
       "    <tr>\n",
       "      <th>2017-04-01 12:00:00-07:00</th>\n",
       "      <td>25.758395</td>\n",
       "      <td>1217.273488</td>\n",
       "      <td>24.084435</td>\n",
       "      <td>1022.709502</td>\n",
       "      <td>24631.380398</td>\n",
       "      <td>25.435102</td>\n",
       "      <td>18.179092</td>\n",
       "    </tr>\n",
       "  </tbody>\n",
       "</table>\n",
       "</div>"
      ],
      "text/plain": [
       "                                i_sc         v_oc       i_mp         v_mp  \\\n",
       "2017-04-01 12:00:00-07:00  25.758395  1217.273488  24.084435  1022.709502   \n",
       "\n",
       "                                   p_mp        i_x       i_xx  \n",
       "2017-04-01 12:00:00-07:00  24631.380398  25.435102  18.179092  "
      ]
     },
     "execution_count": 296,
     "metadata": {},
     "output_type": "execute_result"
    }
   ],
   "source": [
    "# mc.results.dc.reset_index().loc[0].to_dict()\n",
    "mc.results.dc"
   ]
  },
  {
   "cell_type": "code",
   "execution_count": 297,
   "metadata": {},
   "outputs": [
    {
     "data": {
      "text/plain": [
       "2017-04-01 12:00:00-07:00    2500.0\n",
       "dtype: float64"
      ]
     },
     "execution_count": 297,
     "metadata": {},
     "output_type": "execute_result"
    }
   ],
   "source": [
    "mc.results.ac"
   ]
  },
  {
   "cell_type": "code",
   "execution_count": 287,
   "metadata": {},
   "outputs": [],
   "source": [
    "sandia_modules=pvlib.pvsystem.retrieve_sam('SandiaMod')\n",
    "module = sandia_modules['BP_Solar_BP3220N_Module___2010_'] #18% eff, c-Si\n",
    "inv = cec_inverters['ABB__MICRO_0_3_I_OUTD_US_208__208V_']\n",
    "system = PVSystem(module_parameters=module,inverter_parameters=inv,surface_azimuth=180,\n",
    "                    modules_per_string=23,strings_per_inverter=220,\n",
    "                    racking_model='open_rack',\n",
    "                  module_type='glass_glass')\n",
    "mc2=ModelChain(system=system,location=location)"
   ]
  },
  {
   "cell_type": "code",
   "execution_count": 288,
   "metadata": {},
   "outputs": [
    {
     "data": {
      "text/plain": [
       "ModelChain: \n",
       "  name: None\n",
       "  clearsky_model: ineichen\n",
       "  transposition_model: haydavies\n",
       "  solar_position_method: nrel_numpy\n",
       "  airmass_model: kastenyoung1989\n",
       "  dc_model: sapm\n",
       "  ac_model: sandia_inverter\n",
       "  aoi_model: sapm_aoi_loss\n",
       "  spectral_model: sapm_spectral_loss\n",
       "  temperature_model: sapm_temp\n",
       "  losses_model: no_extra_losses"
      ]
     },
     "execution_count": 288,
     "metadata": {},
     "output_type": "execute_result"
    }
   ],
   "source": [
    "mc2.run_model(weather=weather)"
   ]
  },
  {
   "cell_type": "code",
   "execution_count": 289,
   "metadata": {},
   "outputs": [
    {
     "data": {
      "text/plain": [
       "2017-04-01 12:00:00-07:00    300.0\n",
       "dtype: float64"
      ]
     },
     "execution_count": 289,
     "metadata": {},
     "output_type": "execute_result"
    }
   ],
   "source": [
    "mc2.results.ac"
   ]
  },
  {
   "cell_type": "code",
   "execution_count": null,
   "metadata": {},
   "outputs": [],
   "source": []
  }
 ],
 "metadata": {
  "kernelspec": {
   "display_name": "pvlib",
   "language": "python",
   "name": "python3"
  },
  "language_info": {
   "codemirror_mode": {
    "name": "ipython",
    "version": 3
   },
   "file_extension": ".py",
   "mimetype": "text/x-python",
   "name": "python",
   "nbconvert_exporter": "python",
   "pygments_lexer": "ipython3",
   "version": "3.12.6"
  }
 },
 "nbformat": 4,
 "nbformat_minor": 2
}
