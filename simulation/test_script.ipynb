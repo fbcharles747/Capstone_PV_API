{
 "cells": [
  {
   "cell_type": "code",
   "execution_count": 62,
   "metadata": {},
   "outputs": [],
   "source": [
    "import pvlib\n",
    "\n",
    "from pvlib.temperature import TEMPERATURE_MODEL_PARAMETERS\n",
    "\n",
    "temperature_model_parameters = TEMPERATURE_MODEL_PARAMETERS['sapm']['open_rack_glass_glass']\n",
    "\n",
    "# load some module and inverter specifications\n",
    "sandia_modules = pvlib.pvsystem.retrieve_sam('SandiaMod')\n",
    "\n",
    "cec_inverters = pvlib.pvsystem.retrieve_sam('cecinverter')\n",
    "\n",
    "sandia_module = sandia_modules['BP_Solar_BP3115__2006__E__']\n",
    "\n",
    "cec_inverter = cec_inverters['ABB__MICRO_0_25_I_OUTD_US_208__208V_']"
   ]
  },
  {
   "cell_type": "code",
   "execution_count": 63,
   "metadata": {},
   "outputs": [],
   "source": [
    "DEFAULT_INVERTER = {\n",
    "    'Vac': 277,  # Nominal AC voltage (V)\n",
    "    'Pso': 28.358692,  # Power consumption during operation (W)\n",
    "    'Paco': 2500.0,  # Maximum AC power output (W)\n",
    "    'Pdco': 2592.4729,  # Maximum DC power output (W)\n",
    "    'Vdco': 360.0,  # Nominal DC voltage (V)\n",
    "    'C0': -0.000008,  # Curvature between AC power and DC power (1/W)\n",
    "    'C1': -0.000045,  # Coefficient of `Pdco` variation with DC input voltage (1/V)\n",
    "    'C2': 0.00041,  # Coefficient of inverter power consumption loss variation with DC input voltage (1/V)\n",
    "    'C3': -0.002524,  # Coefficient of C0 variation with DC input voltage (1/V)\n",
    "    'Pnt': 0.5,  # Inverter night time loss (kW)\n",
    "    'Vdcmax': 416.0,  # Maximum DC voltage (V)\n",
    "    'Idcmax': 7.201314,  # Maximum DC current (A)\n",
    "    'Mppt_low': 100.0,  # Minimum MPPT DC voltage (V)\n",
    "    'Mppt_high': 416.0,  # Maximum MPPT DC voltage (V)\n",
    "    'CEC_Date': None,  # CEC date (if applicable, None indicates missing data)\n",
    "    'CEC_Type': 'Utility Interactive',  # Type of CEC classification\n",
    "    'Name': 'ABB__UNO_2_5_I_OUTD_S_US__277V_'  # Name of the inverter\n",
    "}\n",
    "\n",
    "DEFAULT_MODULE = {\n",
    "    'Name': 'Sunpreme_Inc__SNPM_GxB_510',  # Name of the solar module\n",
    "    'Technology': 'Thin Film',               # Type of technology used in the solar module\n",
    "    'BIPV': 'N',                         # Indicates if the module is bifacial (Y/N)\n",
    "    'STC': 509.97,                          # Standard Test Conditions power output (W)\n",
    "    'PTC': 479.6,                           # PTC (PVUSA Test Conditions) power output (W)\n",
    "    'A_c': 2.591,                           # Area of the solar panel (m²)\n",
    "    'Length': 1.981,                        # Length of the solar panel (m)\n",
    "    'Width': 1.308,                         # Width of the solar panel (m)\n",
    "    'N_s': 96,                              # Number of cells in series\n",
    "    'I_sc_ref': 9.4,                        # Short circuit current (A) at STC\n",
    "    'V_oc_ref': 74.7,                       # Open circuit voltage (V) at STC\n",
    "    'I_mp_ref': 8.9,                        # Max Power Current (A) at STC\n",
    "    'V_mp_ref': 57.3,                       # Max power voltage (V) at STC\n",
    "    'alpha_sc': 0.00094,                    # Short circuit current change per degree Celsius (A/°C)\n",
    "    'beta_oc': -0.19422,                    # Open circuit voltage change per degree Celsius (V/°C)\n",
    "    'T_NOCT': 45.5,                         # Module NOCT (Nominal Operating Cell Temperature) rating (°C)\n",
    "    'a_ref': 2.41017,                       # Ideality factor (V) from CEC module database\n",
    "    'I_L_ref': 9.40894,                     # Reference light current (A)\n",
    "    'I_o_ref': 0.0,                         # Reference diode saturation current (A)\n",
    "    'R_s': 1.135045,                        # Reference series resistance (Ω)\n",
    "    'R_sh_ref': 1193.327026,                # Reference shunt resistance (Ω)\n",
    "    'Adjust': -20.561962,                   # Temperature coefficient adjustment factor\n",
    "    'gamma_r': -0.3,                        # Gamma (%/°C) indicating performance degradation with temperature\n",
    "    'Version': 'SAM 2018.11.11 r2',         # Version of the module or simulation software\n",
    "    'Date': '1/3/2019'                      # Manufacture date of the module\n",
    "}\n"
   ]
  },
  {
   "cell_type": "code",
   "execution_count": 64,
   "metadata": {},
   "outputs": [
    {
     "data": {
      "text/plain": [
       "PVSystem:\n",
       "  name: None\n",
       "  Array:\n",
       "    name: None\n",
       "    mount: FixedMount(surface_tilt=20, surface_azimuth=200, racking_model=None, module_height=None)\n",
       "    module: None\n",
       "    albedo: 0.25\n",
       "    module_type: None\n",
       "    temperature_model_parameters: {'a': -3.47, 'b': -0.0594, 'deltaT': 3}\n",
       "    strings: 6\n",
       "    modules_per_string: 25\n",
       "  inverter: None"
      ]
     },
     "execution_count": 64,
     "metadata": {},
     "output_type": "execute_result"
    }
   ],
   "source": [
    "from pvlib.location import Location\n",
    "from pvlib.pvsystem import PVSystem,Array, FixedMount\n",
    "from pvlib.modelchain import ModelChain\n",
    "location = Location(latitude=32.2, longitude=-110.9)\n",
    "\n",
    "arrs=[]\n",
    "mount=FixedMount(surface_tilt=45,\n",
    "                 surface_azimuth=180,\n",
    "                 racking_model='open_rack',\n",
    "                 module_height=1)\n",
    "for _ in range(4):\n",
    "    newArr=Array(mount=mount,\n",
    "          albedo=0.25,\n",
    "          module_type='glass_glass',\n",
    "          module_parameters=sandia_module,\n",
    "          modules_per_string=25,\n",
    "          strings=2)\n",
    "    arrs.append(newArr)\n",
    "\n",
    "system = PVSystem(surface_tilt=20, surface_azimuth=200,\n",
    "                  module_parameters=sandia_module,\n",
    "                  inverter_parameters=cec_inverter,\n",
    "                  temperature_model_parameters=temperature_model_parameters,\n",
    "                  strings_per_inverter=6,\n",
    "                  modules_per_string=25)\n",
    "\n",
    "# system=PVSystem(\n",
    "#     arrays=arrs,\n",
    "#     inverter_parameters=cec_inverter\n",
    "# )\n",
    "\n",
    "mc=ModelChain(system=system,location=location)\n",
    "system"
   ]
  },
  {
   "cell_type": "code",
   "execution_count": 65,
   "metadata": {},
   "outputs": [
    {
     "data": {
      "text/html": [
       "<div>\n",
       "<style scoped>\n",
       "    .dataframe tbody tr th:only-of-type {\n",
       "        vertical-align: middle;\n",
       "    }\n",
       "\n",
       "    .dataframe tbody tr th {\n",
       "        vertical-align: top;\n",
       "    }\n",
       "\n",
       "    .dataframe thead th {\n",
       "        text-align: right;\n",
       "    }\n",
       "</style>\n",
       "<table border=\"1\" class=\"dataframe\">\n",
       "  <thead>\n",
       "    <tr style=\"text-align: right;\">\n",
       "      <th></th>\n",
       "      <th>ghi</th>\n",
       "      <th>dni</th>\n",
       "      <th>dhi</th>\n",
       "      <th>temp_air</th>\n",
       "      <th>wind_speed</th>\n",
       "    </tr>\n",
       "  </thead>\n",
       "  <tbody>\n",
       "    <tr>\n",
       "      <th>2017-04-01 12:00:00-07:00</th>\n",
       "      <td>50</td>\n",
       "      <td>0</td>\n",
       "      <td>50</td>\n",
       "      <td>9.02</td>\n",
       "      <td>5.66</td>\n",
       "    </tr>\n",
       "  </tbody>\n",
       "</table>\n",
       "</div>"
      ],
      "text/plain": [
       "                           ghi  dni  dhi  temp_air  wind_speed\n",
       "2017-04-01 12:00:00-07:00   50    0   50      9.02        5.66"
      ]
     },
     "execution_count": 65,
     "metadata": {},
     "output_type": "execute_result"
    }
   ],
   "source": [
    "import pandas as pd\n",
    "weather_data={\n",
    "    'ghi':50,\n",
    "    'dni':0,\n",
    "    'dhi':50,\n",
    "    'temp_air':9.02,\n",
    "    'wind_speed':5.66\n",
    "}\n",
    "weather = pd.DataFrame([weather_data],\n",
    "                       index=[pd.Timestamp('20170401 1200', tz='US/Arizona')])\n",
    "weather\n"
   ]
  },
  {
   "cell_type": "code",
   "execution_count": 67,
   "metadata": {},
   "outputs": [
    {
     "data": {
      "text/plain": [
       "2017-04-01 12:00:00-07:00    250.0\n",
       "dtype: float64"
      ]
     },
     "execution_count": 67,
     "metadata": {},
     "output_type": "execute_result"
    }
   ],
   "source": [
    "mc.run_model(weather)\n",
    "\n",
    "mc.results.ac"
   ]
  },
  {
   "cell_type": "code",
   "execution_count": null,
   "metadata": {},
   "outputs": [],
   "source": []
  }
 ],
 "metadata": {
  "kernelspec": {
   "display_name": "pvlib",
   "language": "python",
   "name": "python3"
  },
  "language_info": {
   "codemirror_mode": {
    "name": "ipython",
    "version": 3
   },
   "file_extension": ".py",
   "mimetype": "text/x-python",
   "name": "python",
   "nbconvert_exporter": "python",
   "pygments_lexer": "ipython3",
   "version": "3.12.6"
  }
 },
 "nbformat": 4,
 "nbformat_minor": 2
}
