{
 "cells": [
  {
   "cell_type": "code",
   "execution_count": 10,
   "metadata": {},
   "outputs": [],
   "source": [
    "DEFAULT_INVERTER = {\n",
    "    'Vac': 277,  # Nominal AC voltage (V)\n",
    "    'Pso': 28.358692,  # Power consumption during operation (W)\n",
    "    'Paco': 2500.0,  # Maximum AC power output (W)\n",
    "    'Pdco': 2592.4729,  # Maximum DC power output (W)\n",
    "    'Vdco': 360.0,  # Nominal DC voltage (V)\n",
    "    'C0': -0.000008,  # Curvature between AC power and DC power (1/W)\n",
    "    'C1': -0.000045,  # Coefficient of `Pdco` variation with DC input voltage (1/V)\n",
    "    'C2': 0.00041,  # Coefficient of inverter power consumption loss variation with DC input voltage (1/V)\n",
    "    'C3': -0.002524,  # Coefficient of C0 variation with DC input voltage (1/V)\n",
    "    'Pnt': 0.5,  # Inverter night time loss (kW)\n",
    "    'Vdcmax': 416.0,  # Maximum DC voltage (V)\n",
    "    'Idcmax': 7.201314,  # Maximum DC current (A)\n",
    "    'Mppt_low': 100.0,  # Minimum MPPT DC voltage (V)\n",
    "    'Mppt_high': 416.0,  # Maximum MPPT DC voltage (V)\n",
    "    'CEC_Date': None,  # CEC date (if applicable, None indicates missing data)\n",
    "    'CEC_Type': 'Utility Interactive',  # Type of CEC classification\n",
    "    'Name': 'ABB__UNO_2_5_I_OUTD_S_US__277V_'  # Name of the inverter\n",
    "}\n",
    "\n",
    "DEFAULT_MODULE = {\n",
    "    'Name': 'Sunpreme_Inc__SNPM_GxB_510',  # Name of the solar module\n",
    "    'Technology': 'Thin Film',               # Type of technology used in the solar module\n",
    "    'BIPV': 'N',                         # Indicates if the module is bifacial (Y/N)\n",
    "    'STC': 509.97,                          # Standard Test Conditions power output (W)\n",
    "    'PTC': 479.6,                           # PTC (PVUSA Test Conditions) power output (W)\n",
    "    'A_c': 2.591,                           # Area of the solar panel (m²)\n",
    "    'Length': 1.981,                        # Length of the solar panel (m)\n",
    "    'Width': 1.308,                         # Width of the solar panel (m)\n",
    "    'N_s': 96,                              # Number of cells in series\n",
    "    'I_sc_ref': 9.4,                        # Short circuit current (A) at STC\n",
    "    'V_oc_ref': 74.7,                       # Open circuit voltage (V) at STC\n",
    "    'I_mp_ref': 8.9,                        # Max Power Current (A) at STC\n",
    "    'V_mp_ref': 57.3,                       # Max power voltage (V) at STC\n",
    "    'alpha_sc': 0.00094,                    # Short circuit current change per degree Celsius (A/°C)\n",
    "    'beta_oc': -0.19422,                    # Open circuit voltage change per degree Celsius (V/°C)\n",
    "    'T_NOCT': 45.5,                         # Module NOCT (Nominal Operating Cell Temperature) rating (°C)\n",
    "    'a_ref': 2.41017,                       # Ideality factor (V) from CEC module database\n",
    "    'I_L_ref': 9.40894,                     # Reference light current (A)\n",
    "    'I_o_ref': 0.0,                         # Reference diode saturation current (A)\n",
    "    'R_s': 1.135045,                        # Reference series resistance (Ω)\n",
    "    'R_sh_ref': 1193.327026,                # Reference shunt resistance (Ω)\n",
    "    'Adjust': -20.561962,                   # Temperature coefficient adjustment factor\n",
    "    'gamma_r': -0.3,                        # Gamma (%/°C) indicating performance degradation with temperature\n",
    "    'Version': 'SAM 2018.11.11 r2',         # Version of the module or simulation software\n",
    "    'Date': '1/3/2019'                      # Manufacture date of the module\n",
    "}\n"
   ]
  },
  {
   "cell_type": "code",
   "execution_count": 11,
   "metadata": {},
   "outputs": [],
   "source": [
    "import pvlib\n",
    "\n",
    "sandia_modules = pvlib.pvsystem.retrieve_sam('SandiaMod')\n",
    "cec_inverters=pvlib.pvsystem.retrieve_sam('CECInverter')"
   ]
  },
  {
   "cell_type": "code",
   "execution_count": 16,
   "metadata": {},
   "outputs": [],
   "source": [
    "# select solar module with smallest difference\n",
    "# transpose the df\n",
    "sandia_mods=sandia_modules.T\n",
    "sandia_mods['diff_Isco']=DEFAULT_MODULE['I_sc_ref']-sandia_mods['Isco']\n",
    "sandia_mods['percent_diff_Isco']=sandia_mods['diff_Isco']/DEFAULT_MODULE['I_sc_ref']\n",
    "sandia_mods['diff_Voc']=DEFAULT_MODULE['V_oc_ref']-sandia_mods['Voco']\n",
    "sandia_mods['percent_diff_Voc']=sandia_mods['diff_Voc']/DEFAULT_MODULE['V_oc_ref']\n",
    "sandia_mods['diff_Imp']=DEFAULT_MODULE['I_mp_ref']-sandia_mods['Impo']\n",
    "sandia_mods['percent_diff_Imp']=sandia_mods['diff_Imp']/DEFAULT_MODULE['I_mp_ref']\n",
    "sandia_mods['diff_Vmp']=DEFAULT_MODULE['V_mp_ref']-sandia_mods['Vmpo']\n",
    "sandia_mods['percent_diff_Vmp']=sandia_mods['diff_Vmp']/DEFAULT_MODULE['V_mp_ref']\n",
    "\n",
    "# we can assign weighting score here if necessary\n",
    "sandia_mods['total_diff']=(sandia_mods['percent_diff_Imp'].abs()\n",
    "                           +sandia_mods['percent_diff_Isco'].abs()\n",
    "                           +sandia_mods['percent_diff_Voc'].abs()\n",
    "                           +sandia_mods['percent_diff_Vmp'].abs())\n",
    "indexMin=sandia_mods['total_diff'].idxmin()\n"
   ]
  },
  {
   "cell_type": "code",
   "execution_count": 17,
   "metadata": {},
   "outputs": [
    {
     "data": {
      "text/plain": [
       "Vintage                                                           2010\n",
       "Area                                                             1.502\n",
       "Material                                                          GaAs\n",
       "Cells_in_Series                                                     20\n",
       "Parallel_Strings                                                     1\n",
       "Isco                                                           8.05057\n",
       "Voco                                                           62.1078\n",
       "Impo                                                           7.69405\n",
       "Vmpo                                                           53.7042\n",
       "Aisc                                                           0.00057\n",
       "Aimp                                                          0.000227\n",
       "C0                                                              1.0003\n",
       "C1                                                             -0.0003\n",
       "Bvoco                                                         -0.09498\n",
       "Mbvoc                                                                0\n",
       "Bvmpo                                                          -0.1098\n",
       "Mbvmp                                                                0\n",
       "N                                                                  3.0\n",
       "C2                                                            -2.86728\n",
       "C3                                                            -24.6238\n",
       "A0                                                            0.823921\n",
       "A1                                                            0.227477\n",
       "A2                                                           -0.088651\n",
       "A3                                                            0.011387\n",
       "A4                                                           -0.000515\n",
       "B0                                                                   1\n",
       "B1                                                                 0.0\n",
       "B2                                                                 0.0\n",
       "B3                                                                 0.0\n",
       "B4                                                                 0.0\n",
       "B5                                                                 0.0\n",
       "DTC                                                               15.0\n",
       "FD                                                                   0\n",
       "A                                                               -2.977\n",
       "B                                                             -0.07171\n",
       "C4                                                              0.9872\n",
       "C5                                                              0.0128\n",
       "IXO                                                            7.88869\n",
       "IXXO                                                           5.82747\n",
       "C6                                                              1.0334\n",
       "C7                                                             -0.0334\n",
       "Notes                Source: Sandia National Laboratories Updated 9...\n",
       "diff_Isco                                                      1.34943\n",
       "percent_diff_Isco                                             0.143556\n",
       "diff_Voc                                                       12.5922\n",
       "percent_diff_Voc                                               0.16857\n",
       "diff_Imp                                                       1.20595\n",
       "percent_diff_Imp                                                0.1355\n",
       "diff_Vmp                                                        3.5958\n",
       "percent_diff_Vmp                                              0.062754\n",
       "total_diff                                                    0.510381\n",
       "Name: SolFocus_SF_1100S_CPV_28__330____2010_, dtype: object"
      ]
     },
     "execution_count": 17,
     "metadata": {},
     "output_type": "execute_result"
    }
   ],
   "source": [
    "sandia_mods.loc[indexMin]"
   ]
  },
  {
   "cell_type": "code",
   "execution_count": null,
   "metadata": {},
   "outputs": [],
   "source": []
  }
 ],
 "metadata": {
  "kernelspec": {
   "display_name": "pvlib",
   "language": "python",
   "name": "python3"
  },
  "language_info": {
   "codemirror_mode": {
    "name": "ipython",
    "version": 3
   },
   "file_extension": ".py",
   "mimetype": "text/x-python",
   "name": "python",
   "nbconvert_exporter": "python",
   "pygments_lexer": "ipython3",
   "version": "3.12.6"
  }
 },
 "nbformat": 4,
 "nbformat_minor": 2
}
