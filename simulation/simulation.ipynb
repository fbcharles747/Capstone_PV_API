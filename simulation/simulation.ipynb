{
 "cells": [
  {
   "cell_type": "code",
   "execution_count": 11,
   "metadata": {},
   "outputs": [],
   "source": [
    "from pvlib.location import Location\n",
    "from dotenv import load_dotenv\n",
    "import googlemaps\n",
    "from googlemaps.elevation import elevation\n",
    "from googlemaps.timezone import timezone\n",
    "from googlemaps.\n",
    "import pandas as pd\n",
    "import os"
   ]
  },
  {
   "cell_type": "code",
   "execution_count": 12,
   "metadata": {},
   "outputs": [],
   "source": [
    "# initialize google client\n",
    "load_dotenv()\n",
    "google_apikey=os.getenv(\"google_api_key\")\n",
    "googlemap_client=googlemaps.Client(key=google_apikey)"
   ]
  },
  {
   "cell_type": "code",
   "execution_count": 13,
   "metadata": {},
   "outputs": [
    {
     "data": {
      "text/plain": [
       "{'dstOffset': 3600,\n",
       " 'rawOffset': -25200,\n",
       " 'status': 'OK',\n",
       " 'timeZoneId': 'America/Edmonton',\n",
       " 'timeZoneName': 'Mountain Daylight Time'}"
      ]
     },
     "execution_count": 13,
     "metadata": {},
     "output_type": "execute_result"
    }
   ],
   "source": [
    "# retrieve and process JSON data\n",
    "# Location is in Decimal Degree coordinates\n",
    "location1=Location(latitude=54.3395,longitude=-114.8016)\n",
    "# result=elevation(client=googlemap_client,locations=(location1.latitude,location1.longitude))\n",
    "result= timezone(client=googlemap_client,location=(location1.latitude,location1.longitude))\n",
    "result\n"
   ]
  },
  {
   "cell_type": "code",
   "execution_count": 14,
   "metadata": {},
   "outputs": [],
   "source": [
    "# in lib inverter files: https://github.com/NREL/SAM/tree/develop/deploy/libraries\n",
    "# there are two ways of specifying data\n",
    "from pvlib import pvsystem\n",
    "modules = pvsystem.retrieve_sam('cecmod')\n",
    "# customize parameters if module is not present in the database:\n",
    "# https://pvlib-python.readthedocs.io/en/stable/user_guide/pvsystem.html#design-philosophy\n",
    "# required weather options: \n",
    "# 1. Openweather API \n",
    "# 2. google solar API(geoTiff file)\n",
    "# 3. others\n"
   ]
  },
  {
   "cell_type": "code",
   "execution_count": 16,
   "metadata": {},
   "outputs": [
    {
     "data": {
      "text/plain": [
       "{'Technology': 'Mono-c-Si',\n",
       " 'Bifacial': 0,\n",
       " 'STC': 275.196,\n",
       " 'PTC': 247.8,\n",
       " 'A_c': 1.611,\n",
       " 'Length': 1.639,\n",
       " 'Width': 0.983,\n",
       " 'N_s': 60,\n",
       " 'I_sc_ref': 9.03,\n",
       " 'V_oc_ref': 38.7,\n",
       " 'I_mp_ref': 8.52,\n",
       " 'V_mp_ref': 32.3,\n",
       " 'alpha_sc': 0.005734,\n",
       " 'beta_oc': -0.126781,\n",
       " 'T_NOCT': 46.5,\n",
       " 'a_ref': 1.659088,\n",
       " 'I_L_ref': 9.032612,\n",
       " 'I_o_ref': 6.641533e-10,\n",
       " 'R_s': 0.170889,\n",
       " 'R_sh_ref': 590.845032,\n",
       " 'Adjust': 16.860441,\n",
       " 'gamma_r': -0.4536,\n",
       " 'BIPV': 'N',\n",
       " 'Version': 'SAM 2018.11.11 r2',\n",
       " 'Date': '1/3/2019'}"
      ]
     },
     "execution_count": 16,
     "metadata": {},
     "output_type": "execute_result"
    }
   ],
   "source": [
    "modules['AU_Optronics_PM060M00_275'].to_dict()"
   ]
  },
  {
   "cell_type": "code",
   "execution_count": null,
   "metadata": {},
   "outputs": [],
   "source": []
  }
 ],
 "metadata": {
  "kernelspec": {
   "display_name": "pvlib",
   "language": "python",
   "name": "python3"
  },
  "language_info": {
   "codemirror_mode": {
    "name": "ipython",
    "version": 3
   },
   "file_extension": ".py",
   "mimetype": "text/x-python",
   "name": "python",
   "nbconvert_exporter": "python",
   "pygments_lexer": "ipython3",
   "version": "3.12.6"
  }
 },
 "nbformat": 4,
 "nbformat_minor": 2
}
