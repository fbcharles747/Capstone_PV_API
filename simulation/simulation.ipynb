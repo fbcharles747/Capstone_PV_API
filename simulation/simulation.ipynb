{
 "cells": [
  {
   "cell_type": "code",
   "execution_count": 1,
   "metadata": {},
   "outputs": [],
   "source": [
    "from pvlib.location import Location\n",
    "from dotenv import load_dotenv\n",
    "import googlemaps\n",
    "from googlemaps.client import Client\n",
    "\n",
    "import pandas as pd\n",
    "import os\n",
    "\n",
    "\n",
    "\n"
   ]
  },
  {
   "cell_type": "code",
   "execution_count": 17,
   "metadata": {},
   "outputs": [],
   "source": [
    "# google map API adaptor\n",
    "from pydantic import BaseModel\n",
    "from googlemaps.elevation import elevation\n",
    "from googlemaps.timezone import timezone\n",
    "from googlemaps.exceptions import ApiError, HTTPError, Timeout, TransportError\n",
    "from datetime import datetime\n",
    "from zoneinfo import ZoneInfo\n",
    "\n",
    "class GoogleTimeZone(BaseModel):\n",
    "    dstOffset: int | None\n",
    "    rawOffset: int | None\n",
    "    status: str\n",
    "    timeZoneId: str | None\n",
    "    timeZoneName: str | None\n",
    "    def __init__(self, **kwarg):\n",
    "        super().__init__(**kwarg)\n",
    "\n",
    "\n",
    "class GoogleMap_Adaptor:\n",
    "    def __init__(self, client: Client) -> None:\n",
    "        self.__client = client\n",
    "    \n",
    "    def get_timezone(self, latitude: float, longitude: float) -> GoogleTimeZone|None:\n",
    "        try:\n",
    "            result = timezone(client=self.__client, location=(latitude, longitude),timestamp=datetime.now(tz=ZoneInfo('UTC')))\n",
    "            return GoogleTimeZone(**result)\n",
    "        except (ApiError, HTTPError, Timeout, TransportError) as e:\n",
    "            print(f\"Error fetching timezone: {str(e)}\")\n",
    "            return None\n",
    "    \n",
    "    def get_altitude(self, latitude: float, longitude: float) -> float | None:\n",
    "        try:\n",
    "            result = elevation(client=self.__client, locations=(latitude, longitude))\n",
    "            return result[0]['elevation']\n",
    "        except (ApiError, HTTPError, Timeout, TransportError) as e:\n",
    "            print(f\"Error fetching altitude: {str(e)}\")\n",
    "            return None\n",
    "        except (IndexError, KeyError) as e:\n",
    "            print(f\"Error processing altitude data: {str(e)}\")\n",
    "            return None"
   ]
  },
  {
   "cell_type": "code",
   "execution_count": 18,
   "metadata": {},
   "outputs": [],
   "source": [
    "# open weather API adaptor\n",
    "from pydantic import BaseModel\n",
    "from enum import Enum\n",
    "import requests\n",
    "class OpenWeather_General(BaseModel):\n",
    "    temp:float|None\n",
    "    feels_like:float|None\n",
    "    temp_min:float|None\n",
    "    temp_max:float|None\n",
    "    pressure:float|None\n",
    "    humidity:float |None\n",
    "    sea_level:float|None\n",
    "    grnd_level:float|None\n",
    "    \n",
    "    def __init__(self,**kwarg):\n",
    "        super().__init__(**kwarg)\n",
    "\n",
    "class OpenWeather_Wind(BaseModel):\n",
    "    speed:float|None\n",
    "    deg:float|None\n",
    "    gust:float|None\n",
    "    def __init__(self,**kwarg):\n",
    "        super().__init__(**kwarg)\n",
    "\n",
    "class OpenWeather_Unit(Enum):\n",
    "    STANDARD='standard'\n",
    "    METRIC='metric'\n",
    "    IMPERIAL='imperial'\n",
    "\n",
    "class OpenWeather_Adaptor:\n",
    "\n",
    "    def __init__(self,apikey:str,unit:OpenWeather_Unit):\n",
    "        self.__apikey=apikey\n",
    "        self.unit=unit\n",
    "    \n",
    "    def get_currentWeather(self, latitude: float, longitude: float) -> tuple[OpenWeather_General, OpenWeather_Wind]:\n",
    "        try:\n",
    "            res = requests.get(\"https://api.openweathermap.org/data/2.5/weather\", params={\n",
    "                \"lat\": latitude,\n",
    "                \"lon\": longitude,\n",
    "                \"appid\": self.__apikey,\n",
    "                \"units\": self.unit.value\n",
    "            })\n",
    "            res.raise_for_status()  # Raise an exception for bad status codes\n",
    "            result = res.json()\n",
    "            general_data = OpenWeather_General(**result['main'])\n",
    "            wind_data = OpenWeather_Wind(**result[\"wind\"])\n",
    "            return general_data, wind_data\n",
    "        except requests.RequestException as e:\n",
    "            print(f\"Error fetching weather data: {e}\")\n",
    "            return None, None\n",
    "        except KeyError as e:\n",
    "            print(f\"Error parsing weather data: {e}\")\n",
    "            return None, None\n",
    "        except Exception as e:\n",
    "            print(f\"Unexpected error: {e}\")\n",
    "            return None, None\n"
   ]
  },
  {
   "cell_type": "code",
   "execution_count": 19,
   "metadata": {},
   "outputs": [],
   "source": [
    "# Solcast API adaptor\n",
    "\n",
    "class Solcast_Adaptor:\n",
    "    def __init__(self,apikey:str):\n",
    "        self.__apikey=apikey\n",
    "\n",
    "    def get_estimated_actuals(self,latitude:float,longitude:float)->pd.DataFrame|None:\n",
    "        try:\n",
    "            response=requests.get(f\"https://api.solcast.com.au/world_radiation/estimated_actuals\",\n",
    "                                  params={\n",
    "                                      \"api_key\":self.__apikey,\n",
    "                                      \"latitude\": latitude,\n",
    "                                      \"longitude\":longitude,\n",
    "                                      \"hours\":1,\n",
    "                                      \"format\":'json'\n",
    "                                  })\n",
    "            response.raise_for_status()\n",
    "            result=response.json()\n",
    "            return pd.DataFrame(data=result[\"estimated_actuals\"])\n",
    "        except requests.RequestException as e:\n",
    "            print(f\"Error fetching the irradiance data: {e}\")\n",
    "            return None\n",
    "        except KeyError as e:\n",
    "            print(f\"Error parsing the irradiance data: {e}\")\n",
    "            return None\n",
    "        except Exception as e:\n",
    "            print(f\"unexpected exception in `get_estimated_actual`:{e}\")\n",
    "            return None\n",
    "        \n",
    "\n"
   ]
  },
  {
   "cell_type": "code",
   "execution_count": 20,
   "metadata": {},
   "outputs": [],
   "source": [
    "# initialize google client\n",
    "load_dotenv()\n",
    "google_apikey=os.getenv(\"google_api_key\")\n",
    "openWeather_apikey=os.getenv(\"open_weather_api\")\n",
    "solcast_apikey=os.getenv('solcast_apikey')\n",
    "googlemap_client=googlemaps.Client(key=google_apikey)\n",
    "google_adaptor=GoogleMap_Adaptor(client=googlemap_client)\n",
    "openweather_adaptor=OpenWeather_Adaptor(apikey=openWeather_apikey,unit=OpenWeather_Unit.METRIC)\n",
    "solcast_adaptor=Solcast_Adaptor(apikey=solcast_apikey)"
   ]
  },
  {
   "cell_type": "code",
   "execution_count": 21,
   "metadata": {},
   "outputs": [
    {
     "data": {
      "text/plain": [
       "Location: \n",
       "  name: None\n",
       "  latitude: 54.3395\n",
       "  longitude: -114.8016\n",
       "  altitude: 635.3804321289062\n",
       "  tz: America/Edmonton"
      ]
     },
     "execution_count": 21,
     "metadata": {},
     "output_type": "execute_result"
    }
   ],
   "source": [
    "# retrieve and process JSON data\n",
    "# Location is in Decimal Degree coordinates\n",
    "coordinates1={\"lat\":54.3395,\"lon\":-114.8016}\n",
    "altitude=google_adaptor.get_altitude(coordinates1[\"lat\"],coordinates1['lon'])\n",
    "tz=google_adaptor.get_timezone(coordinates1[\"lat\"],coordinates1[\"lon\"])\n",
    "location1=Location(latitude=coordinates1[\"lat\"],longitude=coordinates1[\"lon\"],tz=tz.timeZoneId,altitude=altitude)\n",
    "location1\n",
    "\n"
   ]
  },
  {
   "cell_type": "code",
   "execution_count": 22,
   "metadata": {},
   "outputs": [
    {
     "data": {
      "text/plain": [
       "OpenWeather_General(temp=11.27, feels_like=9.31, temp_min=11.27, temp_max=11.27, pressure=1019.0, humidity=33.0, sea_level=1019.0, grnd_level=938.0)"
      ]
     },
     "execution_count": 22,
     "metadata": {},
     "output_type": "execute_result"
    }
   ],
   "source": [
    "general_data,wind=openweather_adaptor.get_currentWeather(latitude=location1.latitude,longitude=location1.longitude)\n",
    "general_data"
   ]
  },
  {
   "cell_type": "code",
   "execution_count": 23,
   "metadata": {},
   "outputs": [
    {
     "data": {
      "text/plain": [
       "OpenWeather_Wind(speed=2.21, deg=275.0, gust=4.05)"
      ]
     },
     "execution_count": 23,
     "metadata": {},
     "output_type": "execute_result"
    }
   ],
   "source": [
    "wind\n"
   ]
  },
  {
   "cell_type": "code",
   "execution_count": 28,
   "metadata": {},
   "outputs": [
    {
     "data": {
      "text/html": [
       "<div>\n",
       "<style scoped>\n",
       "    .dataframe tbody tr th:only-of-type {\n",
       "        vertical-align: middle;\n",
       "    }\n",
       "\n",
       "    .dataframe tbody tr th {\n",
       "        vertical-align: top;\n",
       "    }\n",
       "\n",
       "    .dataframe thead th {\n",
       "        text-align: right;\n",
       "    }\n",
       "</style>\n",
       "<table border=\"1\" class=\"dataframe\">\n",
       "  <thead>\n",
       "    <tr style=\"text-align: right;\">\n",
       "      <th></th>\n",
       "      <th>ghi</th>\n",
       "      <th>ebh</th>\n",
       "      <th>dni</th>\n",
       "      <th>dhi</th>\n",
       "      <th>cloud_opacity</th>\n",
       "      <th>period_end</th>\n",
       "      <th>period</th>\n",
       "    </tr>\n",
       "  </thead>\n",
       "  <tbody>\n",
       "    <tr>\n",
       "      <th>0</th>\n",
       "      <td>408</td>\n",
       "      <td>301</td>\n",
       "      <td>660</td>\n",
       "      <td>107</td>\n",
       "      <td>10</td>\n",
       "      <td>2024-09-28 17:30:00+00:00</td>\n",
       "      <td>PT30M</td>\n",
       "    </tr>\n",
       "    <tr>\n",
       "      <th>1</th>\n",
       "      <td>401</td>\n",
       "      <td>353</td>\n",
       "      <td>859</td>\n",
       "      <td>48</td>\n",
       "      <td>0</td>\n",
       "      <td>2024-09-28 17:00:00+00:00</td>\n",
       "      <td>PT30M</td>\n",
       "    </tr>\n",
       "    <tr>\n",
       "      <th>2</th>\n",
       "      <td>341</td>\n",
       "      <td>296</td>\n",
       "      <td>828</td>\n",
       "      <td>45</td>\n",
       "      <td>0</td>\n",
       "      <td>2024-09-28 16:30:00+00:00</td>\n",
       "      <td>PT30M</td>\n",
       "    </tr>\n",
       "  </tbody>\n",
       "</table>\n",
       "</div>"
      ],
      "text/plain": [
       "   ghi  ebh  dni  dhi  cloud_opacity                period_end period\n",
       "0  408  301  660  107             10 2024-09-28 17:30:00+00:00  PT30M\n",
       "1  401  353  859   48              0 2024-09-28 17:00:00+00:00  PT30M\n",
       "2  341  296  828   45              0 2024-09-28 16:30:00+00:00  PT30M"
      ]
     },
     "execution_count": 28,
     "metadata": {},
     "output_type": "execute_result"
    }
   ],
   "source": [
    "# get solcast data\n",
    "irradiance_estimated=solcast_adaptor.get_estimated_actuals(latitude=location1.latitude,longitude=location1.longitude)\n",
    "irradiance_estimated['period_end']=pd.to_datetime(irradiance_estimated['period_end'])\n",
    "irradiance_estimated"
   ]
  },
  {
   "cell_type": "code",
   "execution_count": 38,
   "metadata": {},
   "outputs": [
    {
     "data": {
      "text/plain": [
       "0"
      ]
     },
     "execution_count": 38,
     "metadata": {},
     "output_type": "execute_result"
    }
   ],
   "source": [
    "from datetime import datetime,timezone\n",
    "from zoneinfo import ZoneInfo\n",
    "now=datetime.now(tz=ZoneInfo('UTC'))\n",
    "irradiance_estimated[\"diff_from_now\"]=irradiance_estimated['period_end'] - now\n",
    "irradiance_estimated['diff_from_now']= irradiance_estimated['diff_from_now'].abs()\n",
    "index_min=irradiance_estimated['diff_from_now'].idxmin()\n",
    "# result_irradiance=irradiance_estimated.loc[index_min]\n",
    "# result_irradiance.to_dict()\n",
    "index_min"
   ]
  },
  {
   "cell_type": "code",
   "execution_count": 64,
   "metadata": {},
   "outputs": [],
   "source": [
    "# in lib inverter files: https://github.com/NREL/SAM/tree/develop/deploy/libraries\n",
    "# there are two ways of specifying data\n",
    "from pvlib import pvsystem\n",
    "modules = pvsystem.retrieve_sam('cecmod')\n",
    "# customize parameters if module is not present in the database:\n",
    "# https://pvlib-python.readthedocs.io/en/stable/user_guide/pvsystem.html#design-philosophy\n",
    "# required weather options: \n",
    "# 1. Openweather API \n",
    "# 2. google solar API(geoTiff file)\n",
    "# 3. Solcast\n",
    "\n",
    "# customize parameters in source code: pvlib\\tests\\conftest.py\n"
   ]
  },
  {
   "cell_type": "code",
   "execution_count": 65,
   "metadata": {},
   "outputs": [
    {
     "data": {
      "text/plain": [
       "{'Technology': 'Mono-c-Si',\n",
       " 'Bifacial': 0,\n",
       " 'STC': 275.196,\n",
       " 'PTC': 247.8,\n",
       " 'A_c': 1.611,\n",
       " 'Length': 1.639,\n",
       " 'Width': 0.983,\n",
       " 'N_s': 60,\n",
       " 'I_sc_ref': 9.03,\n",
       " 'V_oc_ref': 38.7,\n",
       " 'I_mp_ref': 8.52,\n",
       " 'V_mp_ref': 32.3,\n",
       " 'alpha_sc': 0.005734,\n",
       " 'beta_oc': -0.126781,\n",
       " 'T_NOCT': 46.5,\n",
       " 'a_ref': 1.659088,\n",
       " 'I_L_ref': 9.032612,\n",
       " 'I_o_ref': 6.641533e-10,\n",
       " 'R_s': 0.170889,\n",
       " 'R_sh_ref': 590.845032,\n",
       " 'Adjust': 16.860441,\n",
       " 'gamma_r': -0.4536,\n",
       " 'BIPV': 'N',\n",
       " 'Version': 'SAM 2018.11.11 r2',\n",
       " 'Date': '1/3/2019'}"
      ]
     },
     "execution_count": 65,
     "metadata": {},
     "output_type": "execute_result"
    }
   ],
   "source": [
    "modules['AU_Optronics_PM060M00_275'].to_dict()"
   ]
  },
  {
   "cell_type": "code",
   "execution_count": 67,
   "metadata": {},
   "outputs": [],
   "source": [
    "import pvlib\n",
    "# df, _, _, metadata = pvlib.iotools.get_pvgis_tmy(location1.latitude, location1.longitude, map_variables=True)\n"
   ]
  },
  {
   "cell_type": "code",
   "execution_count": 68,
   "metadata": {},
   "outputs": [],
   "source": [
    "# pvlib.iotools.get_pvgis_hourly(location1.latitude,location1.longitude)"
   ]
  },
  {
   "cell_type": "code",
   "execution_count": 69,
   "metadata": {},
   "outputs": [
    {
     "name": "stdout",
     "output_type": "stream",
     "text": [
      "Current UTC time: 2024-09-25 06:06:17.779739+00:00\n",
      "Current Edmonton time: 2024-09-25 00:06:17.779739-06:00\n"
     ]
    },
    {
     "data": {
      "text/html": [
       "<div>\n",
       "<style scoped>\n",
       "    .dataframe tbody tr th:only-of-type {\n",
       "        vertical-align: middle;\n",
       "    }\n",
       "\n",
       "    .dataframe tbody tr th {\n",
       "        vertical-align: top;\n",
       "    }\n",
       "\n",
       "    .dataframe thead th {\n",
       "        text-align: right;\n",
       "    }\n",
       "</style>\n",
       "<table border=\"1\" class=\"dataframe\">\n",
       "  <thead>\n",
       "    <tr style=\"text-align: right;\">\n",
       "      <th></th>\n",
       "      <th>temp_air</th>\n",
       "      <th>dni</th>\n",
       "      <th>ghi</th>\n",
       "    </tr>\n",
       "    <tr>\n",
       "      <th>period_mid</th>\n",
       "      <th></th>\n",
       "      <th></th>\n",
       "      <th></th>\n",
       "    </tr>\n",
       "  </thead>\n",
       "  <tbody>\n",
       "    <tr>\n",
       "      <th>2024-09-24 00:30:00-06:00</th>\n",
       "      <td>11</td>\n",
       "      <td>0</td>\n",
       "      <td>0</td>\n",
       "    </tr>\n",
       "    <tr>\n",
       "      <th>2024-09-24 01:30:00-06:00</th>\n",
       "      <td>11</td>\n",
       "      <td>0</td>\n",
       "      <td>0</td>\n",
       "    </tr>\n",
       "    <tr>\n",
       "      <th>2024-09-24 02:30:00-06:00</th>\n",
       "      <td>11</td>\n",
       "      <td>0</td>\n",
       "      <td>0</td>\n",
       "    </tr>\n",
       "    <tr>\n",
       "      <th>2024-09-24 03:30:00-06:00</th>\n",
       "      <td>11</td>\n",
       "      <td>0</td>\n",
       "      <td>0</td>\n",
       "    </tr>\n",
       "    <tr>\n",
       "      <th>2024-09-24 04:30:00-06:00</th>\n",
       "      <td>11</td>\n",
       "      <td>0</td>\n",
       "      <td>0</td>\n",
       "    </tr>\n",
       "    <tr>\n",
       "      <th>2024-09-24 05:30:00-06:00</th>\n",
       "      <td>10</td>\n",
       "      <td>0</td>\n",
       "      <td>0</td>\n",
       "    </tr>\n",
       "    <tr>\n",
       "      <th>2024-09-24 06:30:00-06:00</th>\n",
       "      <td>11</td>\n",
       "      <td>0</td>\n",
       "      <td>0</td>\n",
       "    </tr>\n",
       "    <tr>\n",
       "      <th>2024-09-24 07:30:00-06:00</th>\n",
       "      <td>11</td>\n",
       "      <td>41</td>\n",
       "      <td>8</td>\n",
       "    </tr>\n",
       "    <tr>\n",
       "      <th>2024-09-24 08:30:00-06:00</th>\n",
       "      <td>13</td>\n",
       "      <td>504</td>\n",
       "      <td>105</td>\n",
       "    </tr>\n",
       "    <tr>\n",
       "      <th>2024-09-24 09:30:00-06:00</th>\n",
       "      <td>15</td>\n",
       "      <td>522</td>\n",
       "      <td>222</td>\n",
       "    </tr>\n",
       "    <tr>\n",
       "      <th>2024-09-24 10:30:00-06:00</th>\n",
       "      <td>18</td>\n",
       "      <td>739</td>\n",
       "      <td>361</td>\n",
       "    </tr>\n",
       "    <tr>\n",
       "      <th>2024-09-24 11:30:00-06:00</th>\n",
       "      <td>20</td>\n",
       "      <td>500</td>\n",
       "      <td>404</td>\n",
       "    </tr>\n",
       "    <tr>\n",
       "      <th>2024-09-24 12:30:00-06:00</th>\n",
       "      <td>22</td>\n",
       "      <td>701</td>\n",
       "      <td>503</td>\n",
       "    </tr>\n",
       "    <tr>\n",
       "      <th>2024-09-24 13:30:00-06:00</th>\n",
       "      <td>23</td>\n",
       "      <td>885</td>\n",
       "      <td>564</td>\n",
       "    </tr>\n",
       "    <tr>\n",
       "      <th>2024-09-24 14:30:00-06:00</th>\n",
       "      <td>23</td>\n",
       "      <td>874</td>\n",
       "      <td>542</td>\n",
       "    </tr>\n",
       "    <tr>\n",
       "      <th>2024-09-24 15:30:00-06:00</th>\n",
       "      <td>24</td>\n",
       "      <td>851</td>\n",
       "      <td>477</td>\n",
       "    </tr>\n",
       "    <tr>\n",
       "      <th>2024-09-24 16:30:00-06:00</th>\n",
       "      <td>24</td>\n",
       "      <td>680</td>\n",
       "      <td>357</td>\n",
       "    </tr>\n",
       "    <tr>\n",
       "      <th>2024-09-24 17:30:00-06:00</th>\n",
       "      <td>23</td>\n",
       "      <td>452</td>\n",
       "      <td>214</td>\n",
       "    </tr>\n",
       "    <tr>\n",
       "      <th>2024-09-24 18:30:00-06:00</th>\n",
       "      <td>21</td>\n",
       "      <td>496</td>\n",
       "      <td>106</td>\n",
       "    </tr>\n",
       "    <tr>\n",
       "      <th>2024-09-24 19:30:00-06:00</th>\n",
       "      <td>18</td>\n",
       "      <td>45</td>\n",
       "      <td>9</td>\n",
       "    </tr>\n",
       "    <tr>\n",
       "      <th>2024-09-24 20:30:00-06:00</th>\n",
       "      <td>16</td>\n",
       "      <td>0</td>\n",
       "      <td>0</td>\n",
       "    </tr>\n",
       "    <tr>\n",
       "      <th>2024-09-24 21:30:00-06:00</th>\n",
       "      <td>15</td>\n",
       "      <td>0</td>\n",
       "      <td>0</td>\n",
       "    </tr>\n",
       "    <tr>\n",
       "      <th>2024-09-24 22:30:00-06:00</th>\n",
       "      <td>14</td>\n",
       "      <td>0</td>\n",
       "      <td>0</td>\n",
       "    </tr>\n",
       "    <tr>\n",
       "      <th>2024-09-24 23:30:00-06:00</th>\n",
       "      <td>13</td>\n",
       "      <td>0</td>\n",
       "      <td>0</td>\n",
       "    </tr>\n",
       "    <tr>\n",
       "      <th>2024-09-25 00:30:00-06:00</th>\n",
       "      <td>13</td>\n",
       "      <td>0</td>\n",
       "      <td>0</td>\n",
       "    </tr>\n",
       "  </tbody>\n",
       "</table>\n",
       "</div>"
      ],
      "text/plain": [
       "                           temp_air  dni  ghi\n",
       "period_mid                                   \n",
       "2024-09-24 00:30:00-06:00        11    0    0\n",
       "2024-09-24 01:30:00-06:00        11    0    0\n",
       "2024-09-24 02:30:00-06:00        11    0    0\n",
       "2024-09-24 03:30:00-06:00        11    0    0\n",
       "2024-09-24 04:30:00-06:00        11    0    0\n",
       "2024-09-24 05:30:00-06:00        10    0    0\n",
       "2024-09-24 06:30:00-06:00        11    0    0\n",
       "2024-09-24 07:30:00-06:00        11   41    8\n",
       "2024-09-24 08:30:00-06:00        13  504  105\n",
       "2024-09-24 09:30:00-06:00        15  522  222\n",
       "2024-09-24 10:30:00-06:00        18  739  361\n",
       "2024-09-24 11:30:00-06:00        20  500  404\n",
       "2024-09-24 12:30:00-06:00        22  701  503\n",
       "2024-09-24 13:30:00-06:00        23  885  564\n",
       "2024-09-24 14:30:00-06:00        23  874  542\n",
       "2024-09-24 15:30:00-06:00        24  851  477\n",
       "2024-09-24 16:30:00-06:00        24  680  357\n",
       "2024-09-24 17:30:00-06:00        23  452  214\n",
       "2024-09-24 18:30:00-06:00        21  496  106\n",
       "2024-09-24 19:30:00-06:00        18   45    9\n",
       "2024-09-24 20:30:00-06:00        16    0    0\n",
       "2024-09-24 21:30:00-06:00        15    0    0\n",
       "2024-09-24 22:30:00-06:00        14    0    0\n",
       "2024-09-24 23:30:00-06:00        13    0    0\n",
       "2024-09-25 00:30:00-06:00        13    0    0"
      ]
     },
     "execution_count": 69,
     "metadata": {},
     "output_type": "execute_result"
    }
   ],
   "source": [
    "from datetime import datetime,timedelta\n",
    "from zoneinfo import ZoneInfo\n",
    "\n",
    "# Get the current time in UTC\n",
    "now_utc = datetime.now(ZoneInfo('UTC'))\n",
    "print(\"Current UTC time:\", now_utc)\n",
    "\n",
    "# Convert UTC time to another timezone (e.g., America/Edmonton)\n",
    "now_edmonton = now_utc.astimezone(ZoneInfo('America/Edmonton'))\n",
    "print(\"Current Edmonton time:\", now_edmonton)\n",
    "now=datetime.now(ZoneInfo('America/Edmonton'))\n",
    "offset=now.utcoffset()\n",
    "offset.total_seconds()/3600\n",
    "\n",
    "now.isoformat()\n",
    "yesterday=now-timedelta(days=1)\n",
    "df, meta = pvlib.iotools.solcast.get_solcast_historic(\n",
    "    latitude=location1.latitude,\n",
    "    longitude=location1.longitude,\n",
    "    start=yesterday.isoformat(),\n",
    "    duration=\"P1D\",\n",
    "    api_key=solcast_apikey,\n",
    "    time_zone=(offset.total_seconds()/3600),\n",
    "    period=\"PT60M\"\n",
    ")\n",
    "df"
   ]
  },
  {
   "cell_type": "code",
   "execution_count": 70,
   "metadata": {},
   "outputs": [
    {
     "data": {
      "text/plain": [
       "1727157977.779739"
      ]
     },
     "execution_count": 70,
     "metadata": {},
     "output_type": "execute_result"
    }
   ],
   "source": [
    "yesterday.timestamp()"
   ]
  },
  {
   "cell_type": "code",
   "execution_count": 71,
   "metadata": {},
   "outputs": [
    {
     "data": {
      "text/plain": [
       "DatetimeIndex(['2024-09-24 00:30:00-06:00', '2024-09-24 01:30:00-06:00',\n",
       "               '2024-09-24 02:30:00-06:00', '2024-09-24 03:30:00-06:00',\n",
       "               '2024-09-24 04:30:00-06:00', '2024-09-24 05:30:00-06:00',\n",
       "               '2024-09-24 06:30:00-06:00', '2024-09-24 07:30:00-06:00',\n",
       "               '2024-09-24 08:30:00-06:00', '2024-09-24 09:30:00-06:00',\n",
       "               '2024-09-24 10:30:00-06:00', '2024-09-24 11:30:00-06:00',\n",
       "               '2024-09-24 12:30:00-06:00', '2024-09-24 13:30:00-06:00',\n",
       "               '2024-09-24 14:30:00-06:00', '2024-09-24 15:30:00-06:00',\n",
       "               '2024-09-24 16:30:00-06:00', '2024-09-24 17:30:00-06:00',\n",
       "               '2024-09-24 18:30:00-06:00', '2024-09-24 19:30:00-06:00',\n",
       "               '2024-09-24 20:30:00-06:00', '2024-09-24 21:30:00-06:00',\n",
       "               '2024-09-24 22:30:00-06:00', '2024-09-24 23:30:00-06:00',\n",
       "               '2024-09-25 00:30:00-06:00'],\n",
       "              dtype='datetime64[ns, UTC-06:00]', name='period_mid', freq=None)"
      ]
     },
     "execution_count": 71,
     "metadata": {},
     "output_type": "execute_result"
    }
   ],
   "source": [
    "df.index"
   ]
  },
  {
   "cell_type": "code",
   "execution_count": null,
   "metadata": {},
   "outputs": [],
   "source": []
  }
 ],
 "metadata": {
  "kernelspec": {
   "display_name": "pvlib",
   "language": "python",
   "name": "python3"
  },
  "language_info": {
   "codemirror_mode": {
    "name": "ipython",
    "version": 3
   },
   "file_extension": ".py",
   "mimetype": "text/x-python",
   "name": "python",
   "nbconvert_exporter": "python",
   "pygments_lexer": "ipython3",
   "version": "3.12.6"
  }
 },
 "nbformat": 4,
 "nbformat_minor": 2
}
